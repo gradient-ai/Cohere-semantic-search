{
 "cells": [
  {
   "cell_type": "markdown",
   "source": [
    "## Installs and setup\n",
    "- Install Cohere for embeddings, Umap to reduce embeddings to 2 dimensions, \n",
    "- Altair for visualization, Annoy for approximate nearest neighbor search"
   ],
   "metadata": {}
  },
  {
   "cell_type": "code",
   "execution_count": null,
   "source": [
    "!pip install cohere umap-learn altair annoy datasets tqdm"
   ],
   "outputs": [],
   "metadata": {}
  },
  {
   "cell_type": "code",
   "execution_count": null,
   "source": [
    "import cohere\n",
    "import numpy as np\n",
    "import re\n",
    "import pandas as pd\n",
    "from tqdm import tqdm\n",
    "from datasets import load_dataset\n",
    "import umap\n",
    "import altair as alt\n",
    "from sklearn.metrics.pairwise import cosine_similarity\n",
    "from annoy import AnnoyIndex\n",
    "import warnings\n",
    "warnings.filterwarnings('ignore')\n",
    "pd.set_option('display.max_colwidth', None)"
   ],
   "outputs": [],
   "metadata": {}
  },
  {
   "cell_type": "markdown",
   "source": [
    "# Get your Cohere API key\n",
    "\n",
    "Get your key by signing up here: https://os.cohere.ai/"
   ],
   "metadata": {}
  },
  {
   "cell_type": "code",
   "execution_count": null,
   "source": [
    "# Paste your API key here. Remember to not share publicly\n",
    "api_key = ''\n",
    "\n",
    "# Create and retrieve a Cohere API key from os.cohere.ai\n",
    "co = cohere.Client(api_key)"
   ],
   "outputs": [],
   "metadata": {}
  },
  {
   "cell_type": "markdown",
   "source": [
    "## Get dataset"
   ],
   "metadata": {}
  },
  {
   "cell_type": "code",
   "execution_count": null,
   "source": [
    "# Get dataset\n",
    "datas = load_dataset(\"trec\", split=\"train\")\n",
    "\n",
    "# Import into a pandas dataframe, take only the first 100 rows\n",
    "dt = pd.DataFrame(datas)[:1000]\n",
    "\n",
    "# Preview the data to ensure it has loaded correctly\n",
    "dt.head(10)"
   ],
   "outputs": [],
   "metadata": {}
  },
  {
   "cell_type": "markdown",
   "source": [
    "## Embed the archive"
   ],
   "metadata": {}
  },
  {
   "cell_type": "code",
   "execution_count": null,
   "source": [
    "# Get the embeddings\n",
    "embeds = co.embed(texts=list(dt['text']),\n",
    "                  model=\"large\",\n",
    "                  truncate=\"LEFT\").embeddings"
   ],
   "outputs": [],
   "metadata": {}
  },
  {
   "cell_type": "markdown",
   "source": [
    "# Building the search index from the embeddings"
   ],
   "metadata": {}
  },
  {
   "cell_type": "code",
   "execution_count": null,
   "source": [
    "# Create the search index, pass the size of embedding\n",
    "search_index = AnnoyIndex(embeds.shape[1], 'angular')\n",
    "# Add all the vectors to the search index\n",
    "for i in range(len(embeds)):\n",
    "    search_index.add_item(i, embeds[i])\n",
    "\n",
    "search_index.build(10) # 10 trees\n",
    "search_index.save('test.ann')"
   ],
   "outputs": [],
   "metadata": {}
  },
  {
   "cell_type": "markdown",
   "source": [
    "# Find the neighbors of an example from the dataset"
   ],
   "metadata": {}
  },
  {
   "cell_type": "code",
   "execution_count": null,
   "source": [
    "# Choose an example (we'll retrieve others similar to it)\n",
    "example_id = 92\n",
    "\n",
    "# Retrieve nearest neighbors\n",
    "similar_item_ids = search_index.get_nns_by_item(example_id,10,\n",
    "                                                include_distances=True)\n",
    "# Format and print the text and distances\n",
    "results = pd.DataFrame(data={'texts': dt.iloc[similar_item_ids[0]]['text'], \n",
    "                             'distance': similar_item_ids[1]}).drop(example_id)\n",
    "\n",
    "print(f\"Question:'{dt.iloc[example_id]['text']}'\\nNearest neighbors:\")\n",
    "results"
   ],
   "outputs": [],
   "metadata": {}
  },
  {
   "cell_type": "markdown",
   "source": [
    "# Find the neighbors of a user query"
   ],
   "metadata": {}
  },
  {
   "cell_type": "code",
   "execution_count": null,
   "source": [
    "query = \"What is the tallest mountain in the world?\"\n",
    "\n",
    "# Get the query's embedding\n",
    "query_embed = co.embed(texts=[query],\n",
    "                  model=\"large\",\n",
    "                  truncate=\"LEFT\").embeddings\n",
    "\n",
    "# Retrieve the nearest neighbors\n",
    "similar_item_ids = search_index.get_nns_by_vector(query_embed[0],10,\n",
    "                                                include_distances=True)\n",
    "# Format the results\n",
    "results = pd.DataFrame(data={'texts': dt.iloc[similar_item_ids[0]]['text'], \n",
    "                             'distance': similar_item_ids[1]})\n",
    "\n",
    "\n",
    "print(f\"Query:'{query}'\\nNearest neighbors:\")\n",
    "results"
   ],
   "outputs": [],
   "metadata": {}
  }
 ],
 "metadata": {
  "orig_nbformat": 4,
  "language_info": {
   "name": "python"
  }
 },
 "nbformat": 4,
 "nbformat_minor": 2
}